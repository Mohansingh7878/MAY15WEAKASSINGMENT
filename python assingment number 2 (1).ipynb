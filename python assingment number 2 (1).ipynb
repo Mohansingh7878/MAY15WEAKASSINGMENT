{
 "cells": [
  {
   "cell_type": "markdown",
   "id": "d5aab20e-6d3b-476d-b049-0e6b002d4dd0",
   "metadata": {},
   "source": [
    " Q1. How do you comment code in python ? What are the different type of comments?"
   ]
  },
  {
   "cell_type": "code",
   "execution_count": 1,
   "id": "339c6567-e913-4532-b6d6-7e3e62314f93",
   "metadata": {},
   "outputs": [],
   "source": [
    "# we use for write comment hashtag . manly comment two type :-- line comment, block comment"
   ]
  },
  {
   "cell_type": "markdown",
   "id": "f8a58ea7-d010-4da8-9763-3215801892e3",
   "metadata": {},
   "source": [
    "Q2. What are variable in python ? How do you declare and assing values to variables?"
   ]
  },
  {
   "cell_type": "code",
   "execution_count": 2,
   "id": "238bda9a-60d9-461e-8a16-297a102a753b",
   "metadata": {},
   "outputs": [
    {
     "data": {
      "text/plain": [
       "'\"variable is indicate address of any data . we put any int , str , complex number , float number , other data type value in variable'"
      ]
     },
     "execution_count": 2,
     "metadata": {},
     "output_type": "execute_result"
    }
   ],
   "source": [
    "\"\"\"\"variable is indicate address of any data . we put any int , str , complex number , float number , other data type value in variable\"\"\""
   ]
  },
  {
   "cell_type": "code",
   "execution_count": 3,
   "id": "1a26743b-461e-49f5-9fe0-2e228b292ced",
   "metadata": {},
   "outputs": [],
   "source": [
    "a = \"string\"   "
   ]
  },
  {
   "cell_type": "code",
   "execution_count": 4,
   "id": "b22633d8-32e5-4095-abcf-980e8b29e705",
   "metadata": {},
   "outputs": [],
   "source": [
    "b = 6767"
   ]
  },
  {
   "cell_type": "code",
   "execution_count": 5,
   "id": "6cfbc45d-3ad3-4bbf-b200-dc46060b5179",
   "metadata": {},
   "outputs": [],
   "source": [
    "c = 67.67"
   ]
  },
  {
   "cell_type": "code",
   "execution_count": 6,
   "id": "ac448755-7972-44ea-b2f3-8f96799be9e3",
   "metadata": {},
   "outputs": [],
   "source": [
    "d = 6+87j"
   ]
  },
  {
   "cell_type": "markdown",
   "id": "8709cd01-fa2d-4eee-a596-808dbdb6dc03",
   "metadata": {},
   "source": [
    "Q3. How do you convert one data type to another in python ?"
   ]
  },
  {
   "cell_type": "code",
   "execution_count": 7,
   "id": "92d1f20d-0425-4fa0-bcc1-e971e24c6c60",
   "metadata": {},
   "outputs": [],
   "source": [
    "e = \"mohan singh\""
   ]
  },
  {
   "cell_type": "code",
   "execution_count": 8,
   "id": "28aa94e8-8f78-485a-a650-186a01cbe65f",
   "metadata": {},
   "outputs": [],
   "source": [
    "f = 87"
   ]
  },
  {
   "cell_type": "code",
   "execution_count": 9,
   "id": "af2f2928-84a7-4f7c-a8bc-55124c734ffb",
   "metadata": {},
   "outputs": [],
   "source": [
    "e = f"
   ]
  },
  {
   "cell_type": "code",
   "execution_count": 10,
   "id": "f38ac077-b865-40e6-a84c-bdc228be7226",
   "metadata": {},
   "outputs": [
    {
     "data": {
      "text/plain": [
       "87"
      ]
     },
     "execution_count": 10,
     "metadata": {},
     "output_type": "execute_result"
    }
   ],
   "source": [
    "e"
   ]
  },
  {
   "cell_type": "code",
   "execution_count": 11,
   "id": "1ccfb6dd-31ad-49e2-944d-fb9d4f43511d",
   "metadata": {},
   "outputs": [
    {
     "data": {
      "text/plain": [
       "87"
      ]
     },
     "execution_count": 11,
     "metadata": {},
     "output_type": "execute_result"
    }
   ],
   "source": [
    "f"
   ]
  },
  {
   "cell_type": "markdown",
   "id": "06c739c3-263c-4d47-96fe-aad86a1e63d1",
   "metadata": {},
   "source": [
    "Q4. How do you write and exacute a python  script from the command line ?"
   ]
  },
  {
   "cell_type": "code",
   "execution_count": 12,
   "id": "8caab695-30e3-4dac-9145-7332f60071cb",
   "metadata": {},
   "outputs": [
    {
     "data": {
      "text/plain": [
       "'Hello guys !My name is Mohan Singh Banjara.My village name is Banjara ka Bass, Jawli, Alwar,Rajsthan .Present time is doing Data science impact batch 2.0 .'"
      ]
     },
     "execution_count": 12,
     "metadata": {},
     "output_type": "execute_result"
    }
   ],
   "source": [
    "\"\"\"Hello guys !My name is Mohan Singh Banjara.My village name is Banjara ka Bass, Jawli, Alwar,Rajsthan .Present time is doing Data science impact batch 2.0 .\"\"\""
   ]
  },
  {
   "cell_type": "markdown",
   "id": "182d77d0-e1ee-421e-9fcd-6fcdbba348f9",
   "metadata": {},
   "source": [
    "Q5. Given a list my_list = [1,2,3,4,5] , Write the code to slice the list and obtain the sub-list[2,3]."
   ]
  },
  {
   "cell_type": "code",
   "execution_count": 14,
   "id": "c1e964f9-fee0-40d4-8f23-4b1298feb91b",
   "metadata": {},
   "outputs": [],
   "source": [
    "my_list = [1,2,3,4,5]"
   ]
  },
  {
   "cell_type": "code",
   "execution_count": 15,
   "id": "aeb86179-760e-443d-a57d-4b618266a96b",
   "metadata": {},
   "outputs": [
    {
     "data": {
      "text/plain": [
       "[2, 3]"
      ]
     },
     "execution_count": 15,
     "metadata": {},
     "output_type": "execute_result"
    }
   ],
   "source": [
    "my_list[1:3:1]"
   ]
  },
  {
   "cell_type": "markdown",
   "id": "aab4feb2-a7b5-4398-8a8d-d2abd4ccc78a",
   "metadata": {},
   "source": [
    "Q6. What is the complex number in mathmatics , and how is it represented in python ?"
   ]
  },
  {
   "cell_type": "code",
   "execution_count": 16,
   "id": "f18b70a8-372e-46ed-a95b-ec01683ef0a9",
   "metadata": {},
   "outputs": [],
   "source": [
    "h=complex(4,3)"
   ]
  },
  {
   "cell_type": "code",
   "execution_count": 17,
   "id": "d84adc96-fa47-42f4-b59d-1b68203e337d",
   "metadata": {},
   "outputs": [
    {
     "data": {
      "text/plain": [
       "(4+3j)"
      ]
     },
     "execution_count": 17,
     "metadata": {},
     "output_type": "execute_result"
    }
   ],
   "source": [
    "h"
   ]
  },
  {
   "cell_type": "code",
   "execution_count": 18,
   "id": "b718a77c-994c-4fc7-8752-8ae5857ab0aa",
   "metadata": {},
   "outputs": [],
   "source": [
    "# if we extract in complex saample :-- real part and imaginary part value "
   ]
  },
  {
   "cell_type": "code",
   "execution_count": 19,
   "id": "4d39d7cb-2d74-4c24-8604-8110aa7f7aac",
   "metadata": {},
   "outputs": [
    {
     "data": {
      "text/plain": [
       "4.0"
      ]
     },
     "execution_count": 19,
     "metadata": {},
     "output_type": "execute_result"
    }
   ],
   "source": [
    "h.real"
   ]
  },
  {
   "cell_type": "code",
   "execution_count": 20,
   "id": "1178078d-7ae5-45bd-b88e-2a1391496f99",
   "metadata": {},
   "outputs": [
    {
     "data": {
      "text/plain": [
       "3.0"
      ]
     },
     "execution_count": 20,
     "metadata": {},
     "output_type": "execute_result"
    }
   ],
   "source": [
    "h.imag"
   ]
  },
  {
   "cell_type": "markdown",
   "id": "d54b91e4-b692-403b-8aea-a590c4298d9c",
   "metadata": {},
   "source": [
    "Q7. What is the correct way to declare a variable named age and assing the value25 to it ?"
   ]
  },
  {
   "cell_type": "code",
   "execution_count": 21,
   "id": "233f4a4c-c783-4178-ae22-1c08cf8d5e15",
   "metadata": {},
   "outputs": [],
   "source": [
    "age = 25"
   ]
  },
  {
   "cell_type": "code",
   "execution_count": 22,
   "id": "0824219e-ff1d-4580-8418-d9656878ad88",
   "metadata": {},
   "outputs": [
    {
     "data": {
      "text/plain": [
       "25"
      ]
     },
     "execution_count": 22,
     "metadata": {},
     "output_type": "execute_result"
    }
   ],
   "source": [
    "age"
   ]
  },
  {
   "cell_type": "markdown",
   "id": "1906e4c2-7c11-475a-9ae3-e56fbb49b7e6",
   "metadata": {},
   "source": [
    "Q8. Declare a variable named price and assing the value 9.99 to it. What data type does this variable belong to ?"
   ]
  },
  {
   "cell_type": "code",
   "execution_count": 23,
   "id": "ad42e63a-2740-4cbd-8bcd-e33b744d5390",
   "metadata": {},
   "outputs": [],
   "source": [
    "price = 9.99"
   ]
  },
  {
   "cell_type": "code",
   "execution_count": 24,
   "id": "bb477f92-03e3-44e6-b446-8557371fa832",
   "metadata": {},
   "outputs": [
    {
     "data": {
      "text/plain": [
       "float"
      ]
     },
     "execution_count": 24,
     "metadata": {},
     "output_type": "execute_result"
    }
   ],
   "source": [
    "type(price)"
   ]
  },
  {
   "cell_type": "code",
   "execution_count": 25,
   "id": "536e6c53-818e-4a96-b4d1-cd70e7e40e53",
   "metadata": {},
   "outputs": [
    {
     "data": {
      "text/plain": [
       "9.99"
      ]
     },
     "execution_count": 25,
     "metadata": {},
     "output_type": "execute_result"
    }
   ],
   "source": [
    "price"
   ]
  },
  {
   "cell_type": "markdown",
   "id": "59b3173a-604f-4a1a-8a79-0bcdb10a9206",
   "metadata": {},
   "source": [
    "Q9. Creat  a variable named name and assing your full name to it as a string . How would you print the\n",
    "value of this variable ?"
   ]
  },
  {
   "cell_type": "code",
   "execution_count": 26,
   "id": "534a09b1-9167-4f8d-89e2-545e61a1a76a",
   "metadata": {},
   "outputs": [],
   "source": [
    "name = \"Mohan singh\""
   ]
  },
  {
   "cell_type": "code",
   "execution_count": 30,
   "id": "9fddb154-4883-434d-8fbb-22e6a5c54337",
   "metadata": {},
   "outputs": [],
   "source": [
    " name =   (name + str(56))"
   ]
  },
  {
   "cell_type": "code",
   "execution_count": 31,
   "id": "f1c12db5-609f-407e-8f0c-9b228d47982f",
   "metadata": {},
   "outputs": [
    {
     "data": {
      "text/plain": [
       "'Mohan singh56'"
      ]
     },
     "execution_count": 31,
     "metadata": {},
     "output_type": "execute_result"
    }
   ],
   "source": [
    "name"
   ]
  },
  {
   "cell_type": "markdown",
   "id": "31062527-9703-4ae7-a272-27c72dad3bde",
   "metadata": {},
   "source": [
    "Q10. Given the string \"Hello,World!\",extract the substring \"World\"?"
   ]
  },
  {
   "cell_type": "code",
   "execution_count": 1,
   "id": "fbd731ac-6e73-462d-aa6b-1bb597f9d215",
   "metadata": {},
   "outputs": [],
   "source": [
    "s = \"Hello,World!\""
   ]
  },
  {
   "cell_type": "code",
   "execution_count": 4,
   "id": "a87974eb-b7a7-4b91-bf7f-3a0f22a19586",
   "metadata": {},
   "outputs": [
    {
     "data": {
      "text/plain": [
       "'World'"
      ]
     },
     "execution_count": 4,
     "metadata": {},
     "output_type": "execute_result"
    }
   ],
   "source": [
    "s[6:11:1]"
   ]
  },
  {
   "cell_type": "markdown",
   "id": "2cdfb0b3-3bd1-4fda-8a1b-4e2b17b6c3e1",
   "metadata": {},
   "source": [
    "Q11. Creat a variable named \"is_student\"and assing it  a boolean value indicating whether  you are \n",
    "currently a student or not .?"
   ]
  },
  {
   "cell_type": "code",
   "execution_count": 1,
   "id": "5f0cab3d-fe04-4171-bf29-02da9be61758",
   "metadata": {},
   "outputs": [
    {
     "name": "stdin",
     "output_type": "stream",
     "text": [
      "enter your age for identify 6\n"
     ]
    },
    {
     "name": "stdout",
     "output_type": "stream",
     "text": [
      "True\n"
     ]
    }
   ],
   "source": [
    "is_student = int(input(\"enter your age for identify\"))\n",
    "if is_student<18:\n",
    "    print(True)\n",
    "    \n",
    "else:\n",
    "    print(False)"
   ]
  },
  {
   "cell_type": "code",
   "execution_count": null,
   "id": "11aceb64-814e-4455-b629-24fdc5816bba",
   "metadata": {},
   "outputs": [],
   "source": []
  },
  {
   "cell_type": "code",
   "execution_count": null,
   "id": "c28d8c3e-b93b-4315-8d7c-bbfda86c6a6f",
   "metadata": {},
   "outputs": [],
   "source": []
  },
  {
   "cell_type": "code",
   "execution_count": null,
   "id": "61e025bb-d2be-4e0f-a75a-f793c9ca3ec0",
   "metadata": {},
   "outputs": [],
   "source": []
  }
 ],
 "metadata": {
  "kernelspec": {
   "display_name": "Python 3 (ipykernel)",
   "language": "python",
   "name": "python3"
  },
  "language_info": {
   "codemirror_mode": {
    "name": "ipython",
    "version": 3
   },
   "file_extension": ".py",
   "mimetype": "text/x-python",
   "name": "python",
   "nbconvert_exporter": "python",
   "pygments_lexer": "ipython3",
   "version": "3.10.8"
  }
 },
 "nbformat": 4,
 "nbformat_minor": 5
}
